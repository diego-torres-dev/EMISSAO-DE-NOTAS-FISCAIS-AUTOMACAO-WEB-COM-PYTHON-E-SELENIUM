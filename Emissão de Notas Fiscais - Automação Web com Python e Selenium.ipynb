{
 "cells": [
  {
   "cell_type": "markdown",
   "id": "c1a0250e",
   "metadata": {},
   "source": [
    "# Emissão de Notas Fiscais"
   ]
  },
  {
   "cell_type": "markdown",
   "id": "7e48d9b7",
   "metadata": {},
   "source": [
    "Este notebook apresenta um processo de automação de emissão de notas fiscais usando o Python e o Selenium. As tarefas automatizadas são as seguintes:\n",
    "\n",
    "- Acessar a página `login.html`\n",
    "\n",
    "- Preenchimento dos campos do formulário de login\n",
    "\n",
    "- Enviar o formulário de login\n",
    "\n",
    "- Preencher os dados da nota fiscal na página `index.html`\n",
    "\n",
    "- Enviar o formulário com os dados da nota fiscal (emitir nota fiscal)"
   ]
  },
  {
   "cell_type": "markdown",
   "id": "4284decb",
   "metadata": {},
   "source": [
    "## ⚠ Aviso"
   ]
  },
  {
   "cell_type": "markdown",
   "id": "1989c1c0",
   "metadata": {},
   "source": [
    "Todos os dados usados neste notebook são fictícios. Eles foram gerados no site [4Devs - Ferramentas Online](https://www.4devs.com.br/)."
   ]
  },
  {
   "cell_type": "markdown",
   "id": "369d1f24",
   "metadata": {},
   "source": [
    "## Importações"
   ]
  },
  {
   "cell_type": "code",
   "execution_count": 1,
   "id": "f0113aef",
   "metadata": {},
   "outputs": [],
   "source": [
    "# Importa o módulo os\n",
    "import os\n",
    "\n",
    "# Importa a biblioteca time\n",
    "import time\n",
    "\n",
    "# Importa o webdriver\n",
    "from selenium import webdriver\n",
    "\n",
    "# Importa a classe Service para especificar o caminho do webdriver\n",
    "from selenium.webdriver.chrome.service import Service\n",
    "\n",
    "# Importa o Chrome Driver Manager que nos permite baixar o webdriver compatível com a versão do navegador\n",
    "from webdriver_manager.chrome import ChromeDriverManager\n",
    "\n",
    "# Importa a classe By para os métodos de localização de elementos\n",
    "from selenium.webdriver.common.by import By\n",
    "\n",
    "# Importa a classe Keys que nos permite usar teclas do teclado\n",
    "from selenium.webdriver.common.keys import Keys\n",
    "\n",
    "# Importa a classe Select que nos permite trabalhar com menus drop-down\n",
    "from selenium.webdriver.support.select import Select"
   ]
  },
  {
   "cell_type": "markdown",
   "id": "1018b419",
   "metadata": {},
   "source": [
    "## Configurações"
   ]
  },
  {
   "cell_type": "markdown",
   "id": "dfdc6f79",
   "metadata": {},
   "source": [
    "### Criação de Pasta para Downloads"
   ]
  },
  {
   "cell_type": "code",
   "execution_count": 2,
   "id": "752afd9b",
   "metadata": {},
   "outputs": [],
   "source": [
    "# Cria uma pasta com o nome especificado caso ela já não exista\n",
    "if not os.path.exists('Notas Fiscais'):\n",
    "    os.mkdir('Notas Fiscais')"
   ]
  },
  {
   "cell_type": "markdown",
   "id": "4003fcbe",
   "metadata": {},
   "source": [
    "### Opções de Download do Google Chrome"
   ]
  },
  {
   "cell_type": "code",
   "execution_count": 3,
   "id": "4a520406",
   "metadata": {},
   "outputs": [],
   "source": [
    "# Opções do Google Chrome\n",
    "options = webdriver.ChromeOptions()\n",
    "\n",
    "# Pasta para download das notas fiscais\n",
    "pasta_notas_fiscais = os.path.join(os.getcwd(), 'Notas Fiscais')\n",
    "\n",
    "# Configura as opções de download do Google Chrome\n",
    "options.add_experimental_option('prefs', {\n",
    "    'download.default_directory': pasta_notas_fiscais,\n",
    "    'download.prompt_for_download': False,\n",
    "    'download.directory_upgrade': True,\n",
    "    'safebrowsing.enabled': True\n",
    "    \n",
    "})"
   ]
  },
  {
   "cell_type": "markdown",
   "id": "faa85bc7",
   "metadata": {},
   "source": [
    "### Opções de Download do Web Driver"
   ]
  },
  {
   "cell_type": "code",
   "execution_count": 4,
   "id": "d50b1f7c",
   "metadata": {},
   "outputs": [],
   "source": [
    "# Instala o Chrome Driver e fornece o caminho do executável\n",
    "servico = Service(ChromeDriverManager().install())"
   ]
  },
  {
   "cell_type": "markdown",
   "id": "e4022553",
   "metadata": {},
   "source": [
    "## Criação do Navegador"
   ]
  },
  {
   "cell_type": "code",
   "execution_count": 5,
   "id": "d20fbb10",
   "metadata": {},
   "outputs": [],
   "source": [
    "# Cria um navegador Google Chrome\n",
    "navegador = webdriver.Chrome(service=servico, options=options)"
   ]
  },
  {
   "cell_type": "markdown",
   "id": "5961c42d",
   "metadata": {},
   "source": [
    "## Acessando Página de Login"
   ]
  },
  {
   "cell_type": "code",
   "execution_count": 6,
   "id": "cfefd4f0",
   "metadata": {},
   "outputs": [],
   "source": [
    "# Caminho deste notebook\n",
    "caminho_nb = os.getcwd()\n",
    "\n",
    "# Nome do arquivo (página) a ser aberto\n",
    "pagina_login = 'login.html'\n",
    "\n",
    "# Caminho absoluto do arquivo\n",
    "caminho_pagina_login = os.path.join(caminho_nb, pagina_login)\n",
    "\n",
    "# Abre o arquivo no navegador\n",
    "navegador.get(caminho_pagina_login)"
   ]
  },
  {
   "cell_type": "markdown",
   "id": "97e5d60c",
   "metadata": {},
   "source": [
    "## Preenchendo Formulário de Login"
   ]
  },
  {
   "cell_type": "code",
   "execution_count": 7,
   "id": "bfbe1a37",
   "metadata": {},
   "outputs": [],
   "source": [
    "# Localiza o campo de login do formulário pelo XPATH\n",
    "campo_login = navegador.find_element(By.XPATH, '/html/body/div/form/input[1]') \n",
    "\n",
    "# Preenche o campo de login (e-mail aleatório)\n",
    "campo_login.send_keys('raimundo.osvaldo.dias@glaudeimar.com.br')\n",
    "\n",
    "# Localiza o campo de senha do formulário pelo XPATH\n",
    "campo_senha = navegador.find_element(By.XPATH, '/html/body/div/form/input[2]')\n",
    "\n",
    "# Preenche o campo de senha (senha aleatória)\n",
    "campo_senha.send_keys('IYhEUjOg8u')\n",
    "\n",
    "# Localiza o botão de enviar o formulário\n",
    "botao_enviar = navegador.find_element(By.XPATH, '/html/body/div/form/button')\n",
    "\n",
    "# Clica no botão de enviar o formulário\n",
    "botao_enviar.click()"
   ]
  },
  {
   "cell_type": "markdown",
   "id": "7e75fccd",
   "metadata": {},
   "source": [
    "## Importação da Base de Clientes"
   ]
  },
  {
   "cell_type": "code",
   "execution_count": 8,
   "id": "d43e3578",
   "metadata": {},
   "outputs": [
    {
     "data": {
      "text/html": [
       "<div>\n",
       "<style scoped>\n",
       "    .dataframe tbody tr th:only-of-type {\n",
       "        vertical-align: middle;\n",
       "    }\n",
       "\n",
       "    .dataframe tbody tr th {\n",
       "        vertical-align: top;\n",
       "    }\n",
       "\n",
       "    .dataframe thead th {\n",
       "        text-align: right;\n",
       "    }\n",
       "</style>\n",
       "<table border=\"1\" class=\"dataframe\">\n",
       "  <thead>\n",
       "    <tr style=\"text-align: right;\">\n",
       "      <th></th>\n",
       "      <th>Cliente</th>\n",
       "      <th>CPF/CNPJ</th>\n",
       "      <th>CEP</th>\n",
       "      <th>Endereço</th>\n",
       "      <th>Bairro</th>\n",
       "      <th>Municipio</th>\n",
       "      <th>UF</th>\n",
       "      <th>Inscricao Estadual</th>\n",
       "      <th>Descrição</th>\n",
       "      <th>Quantidade</th>\n",
       "      <th>Valor Unitario</th>\n",
       "      <th>Valor Total</th>\n",
       "    </tr>\n",
       "  </thead>\n",
       "  <tbody>\n",
       "    <tr>\n",
       "      <th>0</th>\n",
       "      <td>Valentina Márcia Melissa da Cunha</td>\n",
       "      <td>25379574076</td>\n",
       "      <td>73402036</td>\n",
       "      <td>Módulo Módulo 12</td>\n",
       "      <td>Estância Mestre D'Armas V (Planaltina)</td>\n",
       "      <td>Brasília</td>\n",
       "      <td>DF</td>\n",
       "      <td>213873</td>\n",
       "      <td>Nota referente aos serviços prestados/produtos...</td>\n",
       "      <td>3</td>\n",
       "      <td>273</td>\n",
       "      <td>819</td>\n",
       "    </tr>\n",
       "    <tr>\n",
       "      <th>1</th>\n",
       "      <td>Lara Benedita Josefa Drumond</td>\n",
       "      <td>30227643160</td>\n",
       "      <td>78730170</td>\n",
       "      <td>Avenida Manoel de Araújo Piau</td>\n",
       "      <td>Jardim Belo Panorama</td>\n",
       "      <td>Rondonópolis</td>\n",
       "      <td>MT</td>\n",
       "      <td>194139</td>\n",
       "      <td>Nota referente aos serviços prestados/produtos...</td>\n",
       "      <td>6</td>\n",
       "      <td>730</td>\n",
       "      <td>4380</td>\n",
       "    </tr>\n",
       "    <tr>\n",
       "      <th>2</th>\n",
       "      <td>Silvana Melissa da Paz</td>\n",
       "      <td>36636402806</td>\n",
       "      <td>69308220</td>\n",
       "      <td>Rua Madre Rosa</td>\n",
       "      <td>Treze de Setembro</td>\n",
       "      <td>Boa Vista</td>\n",
       "      <td>RR</td>\n",
       "      <td>203703</td>\n",
       "      <td>Nota referente aos serviços prestados/produtos...</td>\n",
       "      <td>2</td>\n",
       "      <td>389</td>\n",
       "      <td>778</td>\n",
       "    </tr>\n",
       "    <tr>\n",
       "      <th>3</th>\n",
       "      <td>Pietro Diego César Monteiro</td>\n",
       "      <td>51701896486</td>\n",
       "      <td>60182541</td>\n",
       "      <td>Rua Sousa Bandeira</td>\n",
       "      <td>Antônio Diogo</td>\n",
       "      <td>Fortaleza</td>\n",
       "      <td>CE</td>\n",
       "      <td>326342</td>\n",
       "      <td>Nota referente aos serviços prestados/produtos...</td>\n",
       "      <td>2</td>\n",
       "      <td>652</td>\n",
       "      <td>1304</td>\n",
       "    </tr>\n",
       "    <tr>\n",
       "      <th>4</th>\n",
       "      <td>Tomás Gabriel Alves</td>\n",
       "      <td>59992546980</td>\n",
       "      <td>96830690</td>\n",
       "      <td>Rua Capitão Francisco Cândido de Castro Menezes</td>\n",
       "      <td>Aliança</td>\n",
       "      <td>Santa Cruz do Sul</td>\n",
       "      <td>RS</td>\n",
       "      <td>549783</td>\n",
       "      <td>Nota referente aos serviços prestados/produtos...</td>\n",
       "      <td>9</td>\n",
       "      <td>533</td>\n",
       "      <td>4797</td>\n",
       "    </tr>\n",
       "  </tbody>\n",
       "</table>\n",
       "</div>"
      ],
      "text/plain": [
       "                             Cliente     CPF/CNPJ       CEP  \\\n",
       "0  Valentina Márcia Melissa da Cunha  25379574076  73402036   \n",
       "1       Lara Benedita Josefa Drumond  30227643160  78730170   \n",
       "2             Silvana Melissa da Paz  36636402806  69308220   \n",
       "3        Pietro Diego César Monteiro  51701896486  60182541   \n",
       "4                Tomás Gabriel Alves  59992546980  96830690   \n",
       "\n",
       "                                          Endereço  \\\n",
       "0                                 Módulo Módulo 12   \n",
       "1                    Avenida Manoel de Araújo Piau   \n",
       "2                                   Rua Madre Rosa   \n",
       "3                               Rua Sousa Bandeira   \n",
       "4  Rua Capitão Francisco Cândido de Castro Menezes   \n",
       "\n",
       "                                   Bairro          Municipio  UF  \\\n",
       "0  Estância Mestre D'Armas V (Planaltina)           Brasília  DF   \n",
       "1                    Jardim Belo Panorama       Rondonópolis  MT   \n",
       "2                       Treze de Setembro          Boa Vista  RR   \n",
       "3                           Antônio Diogo          Fortaleza  CE   \n",
       "4                                 Aliança  Santa Cruz do Sul  RS   \n",
       "\n",
       "   Inscricao Estadual                                          Descrição  \\\n",
       "0              213873  Nota referente aos serviços prestados/produtos...   \n",
       "1              194139  Nota referente aos serviços prestados/produtos...   \n",
       "2              203703  Nota referente aos serviços prestados/produtos...   \n",
       "3              326342  Nota referente aos serviços prestados/produtos...   \n",
       "4              549783  Nota referente aos serviços prestados/produtos...   \n",
       "\n",
       "   Quantidade  Valor Unitario  Valor Total  \n",
       "0           3             273          819  \n",
       "1           6             730         4380  \n",
       "2           2             389          778  \n",
       "3           2             652         1304  \n",
       "4           9             533         4797  "
      ]
     },
     "execution_count": 8,
     "metadata": {},
     "output_type": "execute_result"
    }
   ],
   "source": [
    "# Importa o pandas com o apelido pd\n",
    "import pandas as pd\n",
    "\n",
    "# Importa a base dados dos clientes\n",
    "df_clientes = pd.read_excel('NotasEmitir.xlsx')\n",
    "\n",
    "# Exibe as cinco primeiras linhas do dataframe\n",
    "df_clientes.head()"
   ]
  },
  {
   "cell_type": "markdown",
   "id": "b4503920",
   "metadata": {},
   "source": [
    "## Preenchendo Dados da Nota Fiscal"
   ]
  },
  {
   "cell_type": "markdown",
   "id": "7d1b432e",
   "metadata": {},
   "source": [
    "O laço de repetição a seguir percorre cada uma das linhas do dataframe __df_clientes__ a fim de obter os dados de cada célula da linha e usá-los para preencher o formulário da nota fiscal. Repare que a cada iteração é necessário limpar os campos do formulário antes de realizar seu preenchimento para que os novos dados não sejam concatenados aos anteriormente preenchidos.\n",
    "\n",
    "Além disso, note que foi necessário converter os dados dos campos de CEP, CPF/CNPJ, Inscrição Estadual, Quantidade, Valor Unitário e Total para string."
   ]
  },
  {
   "cell_type": "code",
   "execution_count": 9,
   "id": "1bc99af6",
   "metadata": {},
   "outputs": [],
   "source": [
    "# Percorre as linhas do dataframe\n",
    "for linha in df_clientes.index:\n",
    "    # Campo Nome\n",
    "    navegador.find_element(By.NAME, 'nome').send_keys(df_clientes.loc[linha, 'Cliente'])\n",
    "\n",
    "    # Campo Endereço\n",
    "    navegador.find_element(By.NAME, 'endereco').send_keys(df_clientes.loc[linha, 'Endereço'])\n",
    "\n",
    "    # Campo Bairro\n",
    "    navegador.find_element(By.NAME, 'bairro').send_keys(df_clientes.loc[linha, 'Bairro'])\n",
    "\n",
    "    # Campo Município\n",
    "    navegador.find_element(By.NAME, 'municipio').send_keys(df_clientes.loc[linha, 'Municipio'])\n",
    "    \n",
    "    # Campo CEP\n",
    "    navegador.find_element(By.NAME, 'cep').send_keys(str(df_clientes.loc[linha, 'CEP']))\n",
    "    \n",
    "    # Campo UF\n",
    "    navegador.find_element(By.NAME, 'uf').send_keys(df_clientes.loc[linha, 'UF'])\n",
    "\n",
    "    # Campo CPF/CNPJ\n",
    "    navegador.find_element(By.NAME, 'cnpj').send_keys(str(df_clientes.loc[linha, 'CPF/CNPJ']))\n",
    "\n",
    "    # Campo Inscrição Estadual\n",
    "    navegador.find_element(By.NAME, 'inscricao').send_keys(str(df_clientes.loc[linha, 'Inscricao Estadual']))\n",
    "\n",
    "    # Campo Descrição\n",
    "    navegador.find_element(By.NAME, 'descricao').send_keys(df_clientes.loc[linha, 'Descrição'])\n",
    "\n",
    "    # Campo Quantidade\n",
    "    navegador.find_element(By.NAME, 'quantidade').send_keys(str(df_clientes.loc[linha, 'Quantidade']))\n",
    "\n",
    "    # Campo Valor Unitário\n",
    "    navegador.find_element(By.NAME, 'valor_unitario').send_keys(str(df_clientes.loc[linha, 'Valor Unitario']))\n",
    "\n",
    "    # Campo Total\n",
    "    navegador.find_element(By.NAME, 'total').send_keys(str(df_clientes.loc[linha, 'Valor Total']))\n",
    "    \n",
    "    # Botão Emitir nota\n",
    "    navegador.find_element(By.CLASS_NAME, 'registerbtn').click()\n",
    "    \n",
    "    # Recarrega o navegador para limpar campos do formulário\n",
    "    navegador.refresh()"
   ]
  }
 ],
 "metadata": {
  "kernelspec": {
   "display_name": "Python 3 (ipykernel)",
   "language": "python",
   "name": "python3"
  },
  "language_info": {
   "codemirror_mode": {
    "name": "ipython",
    "version": 3
   },
   "file_extension": ".py",
   "mimetype": "text/x-python",
   "name": "python",
   "nbconvert_exporter": "python",
   "pygments_lexer": "ipython3",
   "version": "3.9.12"
  }
 },
 "nbformat": 4,
 "nbformat_minor": 5
}
