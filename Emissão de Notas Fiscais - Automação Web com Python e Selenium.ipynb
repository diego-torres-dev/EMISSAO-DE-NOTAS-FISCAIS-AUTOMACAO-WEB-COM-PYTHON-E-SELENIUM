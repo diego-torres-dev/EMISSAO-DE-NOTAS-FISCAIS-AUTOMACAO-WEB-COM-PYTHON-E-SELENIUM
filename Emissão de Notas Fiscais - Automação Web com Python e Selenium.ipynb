{
 "cells": [
  {
   "cell_type": "markdown",
   "id": "c1a0250e",
   "metadata": {},
   "source": [
    "# Emissão de Notas Fiscais"
   ]
  },
  {
   "cell_type": "markdown",
   "id": "7e48d9b7",
   "metadata": {},
   "source": [
    "Este notebook apresenta um processo de automação de emissão de notas fiscais usando o Python e o Selenium. As tarefas automatizadas são as seguintes:\n",
    "\n",
    "- Acessar a página `login.html`\n",
    "\n",
    "- Preenchimento dos campos do formulário de login\n",
    "\n",
    "- Enviar o formulário de login\n",
    "\n",
    "- Preencher os dados da nota fiscal na página `index.html`\n",
    "\n",
    "- Enviar o formulário com os dados da nota fiscal (emitir nota fiscal)"
   ]
  },
  {
   "cell_type": "markdown",
   "id": "4284decb",
   "metadata": {},
   "source": [
    "## ⚠ Aviso"
   ]
  },
  {
   "cell_type": "markdown",
   "id": "1989c1c0",
   "metadata": {},
   "source": [
    "Todos os dados usados neste notebook são fictícios. Eles foram gerados no site [4Devs - Ferramentas Online](https://www.4devs.com.br/)."
   ]
  },
  {
   "cell_type": "markdown",
   "id": "369d1f24",
   "metadata": {},
   "source": [
    "## Importações"
   ]
  },
  {
   "cell_type": "code",
   "execution_count": 1,
   "id": "f0113aef",
   "metadata": {},
   "outputs": [],
   "source": [
    "# Importa o módulo os\n",
    "import os\n",
    "\n",
    "# Importa a biblioteca time\n",
    "import time\n",
    "\n",
    "# Importa o webdriver\n",
    "from selenium import webdriver\n",
    "\n",
    "# Importa a classe Service para especificar o caminho do webdriver\n",
    "from selenium.webdriver.chrome.service import Service\n",
    "\n",
    "# Importa o Chrome Driver Manager que nos permite baixar o webdriver compatível com a versão do navegador\n",
    "from webdriver_manager.chrome import ChromeDriverManager\n",
    "\n",
    "# Importa a classe By para os métodos de localização de elementos\n",
    "from selenium.webdriver.common.by import By\n",
    "\n",
    "# Importa a classe Keys que nos permite usar teclas do teclado\n",
    "from selenium.webdriver.common.keys import Keys\n",
    "\n",
    "# Importa a classe Select que nos permite trabalhar com menus drop-down\n",
    "from selenium.webdriver.support.select import Select"
   ]
  },
  {
   "cell_type": "markdown",
   "id": "1018b419",
   "metadata": {},
   "source": [
    "## Configurações"
   ]
  },
  {
   "cell_type": "code",
   "execution_count": 2,
   "id": "f746dca9",
   "metadata": {},
   "outputs": [],
   "source": [
    "# Opções do Google Chrome\n",
    "options = webdriver.ChromeOptions()\n",
    "\n",
    "# Configura as opções de download do Google Chrome\n",
    "options.add_experimental_option('prefs', {\n",
    "    'download.default_directory': os.getcwd(),\n",
    "    'download.prompt_for_download': False,\n",
    "    'download.directory_upgrade': True,\n",
    "    'safebrowsing.enabled': True\n",
    "    \n",
    "})"
   ]
  },
  {
   "cell_type": "code",
   "execution_count": 3,
   "id": "d50b1f7c",
   "metadata": {},
   "outputs": [],
   "source": [
    "# Instala o Chrome Driver e fornece o caminho do executável\n",
    "servico = Service(ChromeDriverManager().install())"
   ]
  },
  {
   "cell_type": "markdown",
   "id": "e4022553",
   "metadata": {},
   "source": [
    "## Criação do Navegador"
   ]
  },
  {
   "cell_type": "code",
   "execution_count": 4,
   "id": "d20fbb10",
   "metadata": {},
   "outputs": [],
   "source": [
    "# Cria um navegador Google Chrome\n",
    "navegador = webdriver.Chrome(service=servico, options=options)"
   ]
  },
  {
   "cell_type": "markdown",
   "id": "5961c42d",
   "metadata": {},
   "source": [
    "## Acessando Página de Login"
   ]
  },
  {
   "cell_type": "code",
   "execution_count": 5,
   "id": "cfefd4f0",
   "metadata": {},
   "outputs": [],
   "source": [
    "# Caminho deste notebook\n",
    "caminho_nb = os.getcwd()\n",
    "\n",
    "# Nome do arquivo (página) a ser aberto\n",
    "pagina_login = 'login.html'\n",
    "\n",
    "# Caminho absoluto do arquivo\n",
    "caminho_pagina_login = os.path.join(caminho_nb, pagina_login)\n",
    "\n",
    "# Abre o arquivo no navegador\n",
    "navegador.get(caminho_pagina_login)"
   ]
  },
  {
   "cell_type": "markdown",
   "id": "97e5d60c",
   "metadata": {},
   "source": [
    "## Preenchendo Formulário de Login"
   ]
  },
  {
   "cell_type": "code",
   "execution_count": 6,
   "id": "bfbe1a37",
   "metadata": {},
   "outputs": [],
   "source": [
    "# Localiza o campo de login do formulário pelo XPATH\n",
    "campo_login = navegador.find_element(By.XPATH, '/html/body/div/form/input[1]') \n",
    "\n",
    "# Preenche o campo de login (e-mail aleatório)\n",
    "campo_login.send_keys('raimundo.osvaldo.dias@glaudeimar.com.br')\n",
    "\n",
    "# Localiza o campo de senha do formulário pelo XPATH\n",
    "campo_senha = navegador.find_element(By.XPATH, '/html/body/div/form/input[2]')\n",
    "\n",
    "# Preenche o campo de senha (senha aleatória)\n",
    "campo_senha.send_keys('IYhEUjOg8u')\n",
    "\n",
    "# Localiza o botão de enviar o formulário\n",
    "botao_enviar = navegador.find_element(By.XPATH, '/html/body/div/form/button')\n",
    "\n",
    "# Clica no botão de enviar o formulário\n",
    "botao_enviar.click()"
   ]
  },
  {
   "cell_type": "markdown",
   "id": "b4503920",
   "metadata": {},
   "source": [
    "## Preenchendo Dados da Nota Fiscal"
   ]
  },
  {
   "cell_type": "code",
   "execution_count": 7,
   "id": "f3e247d6",
   "metadata": {},
   "outputs": [],
   "source": [
    "# Campo Razão Social\n",
    "campo_razao_social = navegador.find_element(By.NAME, 'nome')\n",
    "\n",
    "# Preenche o campo Razão Social\n",
    "campo_razao_social.send_keys('Alana e Lorena Ferragens Ltda')\n",
    "\n",
    "# Campo Endereço\n",
    "campo_endereco = navegador.find_element(By.NAME, 'endereco')\n",
    "\n",
    "# Preenche o campo Endereço\n",
    "campo_endereco.send_keys('Rua Oito')\n",
    "\n",
    "# Campo Bairro\n",
    "campo_bairro = navegador.find_element(By.NAME, 'bairro')\n",
    "\n",
    "# Preenche o campo Bairro\n",
    "campo_bairro.send_keys('Jardim São Camilo')\n",
    "\n",
    "# Campo Município\n",
    "campo_municipio = navegador.find_element(By.NAME, 'municipio')\n",
    "\n",
    "# Preenche o campo Munícipio\n",
    "campo_municipio.send_keys('Hortolândia')\n",
    "\n",
    "# Campo CEP\n",
    "campo_cep = navegador.find_element(By.NAME, 'cep')\n",
    "\n",
    "# Preenche o campo CEP\n",
    "campo_cep.send_keys('13184-751')"
   ]
  },
  {
   "cell_type": "code",
   "execution_count": 8,
   "id": "e447ef68",
   "metadata": {},
   "outputs": [],
   "source": [
    "# Campo UF\n",
    "campo_uf = navegador.find_element(By.NAME, 'uf')\n",
    "\n",
    "# Preenche o campo UF\n",
    "campo_uf.send_keys('SP')"
   ]
  },
  {
   "cell_type": "code",
   "execution_count": 9,
   "id": "f7c6aa62",
   "metadata": {},
   "outputs": [],
   "source": [
    "# Campo CNPJ/CPF\n",
    "campo_cnpj_cpf = navegador.find_element(By.NAME, 'cnpj')\n",
    "\n",
    "# Preenche o campo CNPJ/CPF\n",
    "campo_cnpj_cpf.send_keys('07.969.865/0001-00')\n",
    "\n",
    "# Campo Inscrição Estadual\n",
    "campo_inscricao_estadual = navegador.find_element(By.NAME, 'inscricao')\n",
    "\n",
    "# Preenche o campo de Inscrição Estadual\n",
    "campo_inscricao_estadual.send_keys('085.334.502.251')\n",
    "\n",
    "# Campo Descrição\n",
    "campo_descricao = navegador.find_element(By.NAME, 'descricao')\n",
    "\n",
    "# Texto da descrição\n",
    "descricao = 'Venda de vigas para construção civil'\n",
    "\n",
    "# Preenche o campo de Descrição\n",
    "campo_descricao.send_keys(descricao)\n",
    "\n",
    "# Campo Quantidade\n",
    "campo_qtde = navegador.find_element(By.NAME, 'quantidade')\n",
    "\n",
    "# Quantidade\n",
    "qtde = 100\n",
    "\n",
    "# Preenche o campo de Quantidade\n",
    "campo_qtde.send_keys(qtde)\n",
    "\n",
    "# Campo Valor Unitário\n",
    "campo_valor_unitario = navegador.find_element(By.NAME, 'valor_unitario')\n",
    "\n",
    "# Valor unitário\n",
    "valor_unitario = 300\n",
    "\n",
    "# Preenche o campo Valor Unitário\n",
    "campo_valor_unitario.send_keys(valor_unitario)\n",
    "\n",
    "# Campo Total\n",
    "campo_total = navegador.find_element(By.NAME, 'total')\n",
    "\n",
    "# Calcula o total \n",
    "total = qtde * valor_unitario\n",
    "\n",
    "# Preenche o campo Total\n",
    "campo_total.send_keys(total)"
   ]
  },
  {
   "cell_type": "code",
   "execution_count": 10,
   "id": "05736861",
   "metadata": {},
   "outputs": [],
   "source": [
    "# Botão Emitir nota\n",
    "botao_emitir_nota = navegador.find_element(By.CLASS_NAME, 'registerbtn')\n",
    "\n",
    "# Clica no botão Emitir nota\n",
    "botao_emitir_nota.click()"
   ]
  }
 ],
 "metadata": {
  "kernelspec": {
   "display_name": "Python 3 (ipykernel)",
   "language": "python",
   "name": "python3"
  },
  "language_info": {
   "codemirror_mode": {
    "name": "ipython",
    "version": 3
   },
   "file_extension": ".py",
   "mimetype": "text/x-python",
   "name": "python",
   "nbconvert_exporter": "python",
   "pygments_lexer": "ipython3",
   "version": "3.9.12"
  }
 },
 "nbformat": 4,
 "nbformat_minor": 5
}
